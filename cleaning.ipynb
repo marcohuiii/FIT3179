{
 "cells": [
  {
   "cell_type": "code",
   "execution_count": 19,
   "metadata": {},
   "outputs": [],
   "source": [
    "import pandas as pd"
   ]
  },
  {
   "cell_type": "code",
   "execution_count": 15,
   "metadata": {},
   "outputs": [],
   "source": [
    "df = pd.read_csv(\"2019.csv\")[[\"Country or region\", \"Score\"]]\n",
    "df18 = pd.read_csv(\"2018.csv\")[[\"Country or region\", \"Score\"]]\n",
    "df17 = pd.read_csv(\"2017.csv\")[[\"Country or region\", \"Score\"]]\n",
    "df16 = pd.read_csv(\"2016.csv\")[[\"Country or region\", \"Score\"]]\n",
    "df15 = pd.read_csv(\"2015.csv\")[[\"Country or region\", \"Score\"]]"
   ]
  },
  {
   "cell_type": "code",
   "execution_count": 6,
   "metadata": {},
   "outputs": [],
   "source": [
    "top5 = df[0:5]"
   ]
  },
  {
   "cell_type": "code",
   "execution_count": 7,
   "metadata": {},
   "outputs": [],
   "source": [
    "top5.to_csv('top5.csv')"
   ]
  },
  {
   "cell_type": "code",
   "execution_count": 16,
   "metadata": {},
   "outputs": [],
   "source": [
    "df['year'] = 2019 \n",
    "df18['year'] = 2018\n",
    "df17['year'] = 2017\n",
    "df16['year'] = 2016 \n",
    "df15['year'] = 2015 "
   ]
  },
  {
   "cell_type": "code",
   "execution_count": 18,
   "metadata": {},
   "outputs": [],
   "source": [
    "frames = [df, df18, df17, df16, df15]\n",
    "result = pd.concat(frames)\n",
    "\n",
    "result.to_csv('allyear.csv')"
   ]
  },
  {
   "cell_type": "code",
   "execution_count": 15,
   "metadata": {},
   "outputs": [],
   "source": [
    "longtop5 = pd.read_csv(\"top5.csv\")[[\"Country or region\", \"GDP per capita\",\"Social support\",\"Healthy life expectancy\",\"Freedom to make life choices\",\"Generosity\",\"Perceptions of corruption\"]]\n",
    "longtop5 = pd.melt(longtop5, id_vars='Country or region', value_vars=[\"GDP per capita\",\"Social support\",\"Healthy life expectancy\",\"Freedom to make life choices\",\"Generosity\",\"Perceptions of corruption\"])"
   ]
  },
  {
   "cell_type": "code",
   "execution_count": 16,
   "metadata": {},
   "outputs": [],
   "source": [
    "longtop5.to_csv('long5.csv')"
   ]
  },
  {
   "cell_type": "code",
   "execution_count": 25,
   "metadata": {},
   "outputs": [],
   "source": [
    "continent = pd.read_csv(\"continents2.csv\")[[\"name\", \"region\"]]\n",
    "df = pd.read_csv(\"2019.csv\")"
   ]
  },
  {
   "cell_type": "code",
   "execution_count": 29,
   "metadata": {},
   "outputs": [],
   "source": [
    "df_continent = continent.merge(df, left_on=\"name\", right_on=\"Country or region\")"
   ]
  },
  {
   "cell_type": "code",
   "execution_count": 30,
   "metadata": {},
   "outputs": [],
   "source": [
    "df_continent.to_csv('happiness_continent.csv')"
   ]
  }
 ],
 "metadata": {
  "kernelspec": {
   "display_name": "Python 3.9.6 64-bit",
   "language": "python",
   "name": "python3"
  },
  "language_info": {
   "codemirror_mode": {
    "name": "ipython",
    "version": 3
   },
   "file_extension": ".py",
   "mimetype": "text/x-python",
   "name": "python",
   "nbconvert_exporter": "python",
   "pygments_lexer": "ipython3",
   "version": "3.9.6"
  },
  "orig_nbformat": 4,
  "vscode": {
   "interpreter": {
    "hash": "aee8b7b246df8f9039afb4144a1f6fd8d2ca17a180786b69acc140d282b71a49"
   }
  }
 },
 "nbformat": 4,
 "nbformat_minor": 2
}
